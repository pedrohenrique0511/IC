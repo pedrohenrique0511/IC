{
 "cells": [
  {
   "cell_type": "code",
   "execution_count": null,
   "metadata": {},
   "outputs": [],
   "source": [
    "import pandas as pd\n",
    "import matplotlib.pyplot as plt\n",
    "from keras.models import Sequential\n",
    "from keras.layers import Dense\n",
    "from sklearn.model_selection import train_test_split\n",
    "from math import fabs\n",
    "from random import randint"
   ]
  },
  {
   "cell_type": "code",
   "execution_count": 2,
   "metadata": {},
   "outputs": [],
   "source": [
    "# Definindo algumas constantes\n",
    "saidas = ['DOMPRECDOMEXP', 'DOMPRECRESEXP', 'ADENSEXCDOMEXP', 'ADENSEXCRESEXP',\t'ONUSEXCDOMEXP', 'ONUSEXCRESEXP', 'COABFAMDOMEXP', 'COABFAMRESEXP']\n",
    "saidasDomicilios = ['DOMPRECDOMEXP', 'ADENSEXCDOMEXP', 'ONUSEXCDOMEXP', 'COABFAMDOMEXP']\n",
    "saidasDesidentes = ['DOMPRECRESEXP', 'ADENSEXCRESEXP', 'ONUSEXCRESEXP', 'COABFAMRESEXP']\n",
    "domiciliosPrecarios = ['DOMPRECDOMEXP']\n",
    "adensamentoExcessivo = ['ADENSEXCDOMEXP']\n",
    "onusExcessivo = ['ONUSEXCDOMEXP']\n",
    "coabtaçãoFamiliar = ['COABFAMDOMEXP']"
   ]
  },
  {
   "cell_type": "code",
   "execution_count": null,
   "metadata": {},
   "outputs": [],
   "source": [
    "# Importa os dados\n",
    "deficit_data_y = pd.read_excel('Banco_903_Amostras_Completo.xlsx')[saidasDomicilios]\n",
    "deficit_data_x = pd.read_excel('Dimensoes_PCA_903_Amostras.xlsx')\n",
    "\n",
    "# Concatena os dois blocos horizontalmente\n",
    "deficit_data = pd.concat([deficit_data_x, deficit_data_y], axis=1)\n",
    "\n",
    "# Exibe o banco de dados\n",
    "deficit_data"
   ]
  },
  {
   "cell_type": "code",
   "execution_count": 4,
   "metadata": {},
   "outputs": [],
   "source": [
    "# Embaralha a ordem das amostras e divide em blocos de treino (80%) e validação (20%)\n",
    "train, validation = train_test_split(deficit_data, test_size=0.2, random_state=randint(0, 100))\n",
    "\n",
    "train_x = train.drop(columns=saidasDomicilios)\n",
    "validation_x = validation.drop(columns=saidasDomicilios)\n",
    "train_y = train[saidasDomicilios]\n",
    "validation_y = validation[saidasDomicilios]\n",
    "\n",
    "numLines = int(validation_x.shape[0] * 0.25) #Equivalente a aproximadamente 5% do banco de dados\n",
    "\n",
    "# Separa uma parte do bloco de validação para teste\n",
    "validation_x, test_x = validation_x[:numLines], validation_x[numLines:]\n",
    "validation_y, test_y = validation_y[:numLines], validation_y[numLines:]"
   ]
  },
  {
   "cell_type": "code",
   "execution_count": null,
   "metadata": {},
   "outputs": [],
   "source": [
    "# Inicializa a rede neural\n",
    "neuralNetwork = Sequential()\n",
    "neuralNetwork.add(Dense(units = 24, activation = 'relu', input_dim = validation_x.shape[1]))\n",
    "neuralNetwork.add(Dense(units = train_y.shape[1], activation = 'linear'))\n",
    "neuralNetwork.compile(loss = 'huber', optimizer = 'rmsprop', metrics = ['mae'])"
   ]
  },
  {
   "cell_type": "code",
   "execution_count": null,
   "metadata": {},
   "outputs": [],
   "source": [
    "# Inicia o treinamento da rede\n",
    "redes_treinadas = neuralNetwork.fit(train_x, train_y, epochs = 400, batch_size = 32, validation_data = (validation_x, validation_y))"
   ]
  },
  {
   "cell_type": "code",
   "execution_count": null,
   "metadata": {},
   "outputs": [],
   "source": [
    "# Imprime o menor erro absoluto médio encontrado\n",
    "print(min(neuralNetwork.history.history['val_mae']))\n",
    "\n",
    "# Plota o gráfico de convegência do treinamento\n",
    "plt.plot(neuralNetwork.history.history['val_mae'])\n",
    "plt.title('Histórico de Treinamento')\n",
    "plt.ylabel('Erro Absoluto')\n",
    "plt.xlabel('Épocas de treinamento')\n",
    "plt.legend(['Rede Componentes Principais'])\n",
    "plt.show()"
   ]
  },
  {
   "cell_type": "code",
   "execution_count": null,
   "metadata": {},
   "outputs": [],
   "source": [
    "# Insere os valores de teste na rede e coleta os resultados gerados pela rede\n",
    "predicts = neuralNetwork.predict(test_x)"
   ]
  },
  {
   "cell_type": "code",
   "execution_count": null,
   "metadata": {},
   "outputs": [],
   "source": [
    "errorPercentage = []\n",
    "\n",
    "# Calculo do tamanho do erro\n",
    "for i in range(test_y.shape[0]):\n",
    "    errorPercentage.append([])\n",
    "\n",
    "    for j in range(test_y.shape[1]):\n",
    "        erro = fabs(predicts[i][j] - test_y.iloc[i,j]) # Calcula o módulo da diferença entre o valor real e o gerado pela rede\n",
    "\n",
    "        if test_y.iloc[i,j] != 0: # Verifica se o valor real é diferente de zero para evitar divisão por zero\n",
    "            errorPercentage[i].append((erro / test_y.iloc[i,j])*100) # Calcula a porcentagem do tamanho do erro em relaçao ao valor real\n",
    "\n",
    "        else:\n",
    "            errorPercentage[i].append(None)  # Substitui a porcentagem com um valor nulo para ser descartado\n",
    "\n",
    "# Exibe o resultado\n",
    "for i in errorPercentage:\n",
    "    print(i)"
   ]
  },
  {
   "cell_type": "code",
   "execution_count": null,
   "metadata": {},
   "outputs": [],
   "source": [
    "meanErrorPercentage = []\n",
    "\n",
    "# Calcula a média das porcentagens excluindo os valores nulos\n",
    "for i in range(test_y.shape[1]):\n",
    "    sum = 0\n",
    "    counter = test_y.shape[0]\n",
    "\n",
    "    for j in range(test_y.shape[0]):\n",
    "        if errorPercentage[j][i] == None:\n",
    "            counter -= 1\n",
    "\n",
    "        else:\n",
    "            sum += errorPercentage[j][i]\n",
    "\n",
    "    meanErrorPercentage.append(sum/counter)\n",
    "\n",
    "print(\"Média do Erro em Porcetagem\")\n",
    "for i in range(len(meanErrorPercentage)):\n",
    "    print(\"{}: {:.2f}%\".format(saidasDomicilios[i], meanErrorPercentage[i]))"
   ]
  }
 ],
 "metadata": {
  "kernelspec": {
   "display_name": "Python 3",
   "language": "python",
   "name": "python3"
  },
  "language_info": {
   "codemirror_mode": {
    "name": "ipython",
    "version": 3
   },
   "file_extension": ".py",
   "mimetype": "text/x-python",
   "name": "python",
   "nbconvert_exporter": "python",
   "pygments_lexer": "ipython3",
   "version": "3.10.12"
  }
 },
 "nbformat": 4,
 "nbformat_minor": 2
}
